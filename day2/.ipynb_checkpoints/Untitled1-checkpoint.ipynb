{
 "cells": [
  {
   "cell_type": "markdown",
   "id": "fa4ea5ac-a421-4035-abf7-028ddc39ba3a",
   "metadata": {},
   "source": [
    "# 怎么定义问题和预处理数据"
   ]
  },
  {
   "cell_type": "markdown",
   "id": "0eb36647-dee8-471b-9642-35a86c7e63f8",
   "metadata": {},
   "source": [
    "## 目标：建立一个机器学习模型，根据点赞数和转发数等指标，估计一篇文章能实现多大的浏览量。"
   ]
  },
  {
   "cell_type": "markdown",
   "id": "e1af6965-7e28-4907-a1f5-d5ba4df808e1",
   "metadata": {},
   "source": [
    "### 1.读取数据"
   ]
  },
  {
   "cell_type": "code",
   "execution_count": 1,
   "id": "efac2578-6f98-4e0d-8cc1-f51d151483b5",
   "metadata": {},
   "outputs": [],
   "source": [
    "import pandas as pd # 导入Pandas数据处理工具包"
   ]
  },
  {
   "cell_type": "code",
   "execution_count": 2,
   "id": "4a2947af-d8d5-467f-87cf-fc1ac29964ae",
   "metadata": {},
   "outputs": [
    {
     "data": {
      "text/html": [
       "<div>\n",
       "<style scoped>\n",
       "    .dataframe tbody tr th:only-of-type {\n",
       "        vertical-align: middle;\n",
       "    }\n",
       "\n",
       "    .dataframe tbody tr th {\n",
       "        vertical-align: top;\n",
       "    }\n",
       "\n",
       "    .dataframe thead th {\n",
       "        text-align: right;\n",
       "    }\n",
       "</style>\n",
       "<table border=\"1\" class=\"dataframe\">\n",
       "  <thead>\n",
       "    <tr style=\"text-align: right;\">\n",
       "      <th></th>\n",
       "      <th>点赞数</th>\n",
       "      <th>转发数</th>\n",
       "      <th>热度指数</th>\n",
       "      <th>文章评级</th>\n",
       "      <th>浏览量</th>\n",
       "    </tr>\n",
       "  </thead>\n",
       "  <tbody>\n",
       "    <tr>\n",
       "      <th>0</th>\n",
       "      <td>2646</td>\n",
       "      <td>1347.0</td>\n",
       "      <td>7</td>\n",
       "      <td>5</td>\n",
       "      <td>260004</td>\n",
       "    </tr>\n",
       "    <tr>\n",
       "      <th>1</th>\n",
       "      <td>816</td>\n",
       "      <td>816.0</td>\n",
       "      <td>4</td>\n",
       "      <td>6</td>\n",
       "      <td>100004</td>\n",
       "    </tr>\n",
       "    <tr>\n",
       "      <th>2</th>\n",
       "      <td>1224</td>\n",
       "      <td>612.0</td>\n",
       "      <td>6</td>\n",
       "      <td>5</td>\n",
       "      <td>164502</td>\n",
       "    </tr>\n",
       "    <tr>\n",
       "      <th>3</th>\n",
       "      <td>1261</td>\n",
       "      <td>1261.0</td>\n",
       "      <td>6</td>\n",
       "      <td>6</td>\n",
       "      <td>163001</td>\n",
       "    </tr>\n",
       "    <tr>\n",
       "      <th>4</th>\n",
       "      <td>1720</td>\n",
       "      <td>1720.0</td>\n",
       "      <td>7</td>\n",
       "      <td>5</td>\n",
       "      <td>260401</td>\n",
       "    </tr>\n",
       "    <tr>\n",
       "      <th>5</th>\n",
       "      <td>1541</td>\n",
       "      <td>1541.0</td>\n",
       "      <td>7</td>\n",
       "      <td>5</td>\n",
       "      <td>220002</td>\n",
       "    </tr>\n",
       "    <tr>\n",
       "      <th>6</th>\n",
       "      <td>827</td>\n",
       "      <td>NaN</td>\n",
       "      <td>5</td>\n",
       "      <td>7</td>\n",
       "      <td>107503</td>\n",
       "    </tr>\n",
       "    <tr>\n",
       "      <th>7</th>\n",
       "      <td>866</td>\n",
       "      <td>686.0</td>\n",
       "      <td>5</td>\n",
       "      <td>9</td>\n",
       "      <td>110504</td>\n",
       "    </tr>\n",
       "    <tr>\n",
       "      <th>8</th>\n",
       "      <td>1314</td>\n",
       "      <td>1300.0</td>\n",
       "      <td>8</td>\n",
       "      <td>5</td>\n",
       "      <td>229461</td>\n",
       "    </tr>\n",
       "    <tr>\n",
       "      <th>9</th>\n",
       "      <td>1431</td>\n",
       "      <td>1099.0</td>\n",
       "      <td>6</td>\n",
       "      <td>5</td>\n",
       "      <td>165004</td>\n",
       "    </tr>\n",
       "  </tbody>\n",
       "</table>\n",
       "</div>"
      ],
      "text/plain": [
       "    点赞数     转发数  热度指数  文章评级     浏览量\n",
       "0  2646  1347.0     7     5  260004\n",
       "1   816   816.0     4     6  100004\n",
       "2  1224   612.0     6     5  164502\n",
       "3  1261  1261.0     6     6  163001\n",
       "4  1720  1720.0     7     5  260401\n",
       "5  1541  1541.0     7     5  220002\n",
       "6   827     NaN     5     7  107503\n",
       "7   866   686.0     5     9  110504\n",
       "8  1314  1300.0     8     5  229461\n",
       "9  1431  1099.0     6     5  165004"
      ]
     },
     "execution_count": 2,
     "metadata": {},
     "output_type": "execute_result"
    }
   ],
   "source": [
    "df_ads = pd.read_csv('易速鲜花微信软文.csv') # 读入数据\n",
    "df_ads.head(10) # 显示前10行数据"
   ]
  },
  {
   "cell_type": "markdown",
   "id": "d97d3076-2fc9-4e48-a1e0-bb74bca360c8",
   "metadata": {},
   "source": [
    "### 2.数据可视化"
   ]
  },
  {
   "cell_type": "markdown",
   "id": "e4e5cf12-4a32-47c1-9954-2e7cbb3c6ab2",
   "metadata": {},
   "source": [
    "#### 2.1 散点图 查看分布状态"
   ]
  },
  {
   "cell_type": "code",
   "execution_count": 3,
   "id": "6ad7ac01-4d00-4890-b433-c46af96ec5c4",
   "metadata": {},
   "outputs": [],
   "source": [
    "#导入数据可视化所需要的库\n",
    "import matplotlib.pyplot as plt # Matplotlib – Python画图工具库\n",
    "import seaborn as sns # Seaborn – 统计学数据可视化工具库"
   ]
  },
  {
   "cell_type": "code",
   "execution_count": 4,
   "id": "2ced07cc-630f-4f7f-980a-10718e2e1f18",
   "metadata": {},
   "outputs": [
    {
     "data": {
      "image/png": "[encoded data removed]",
      "text/plain": [
       "<Figure size 640x480 with 1 Axes>"
      ]
     },
     "metadata": {},
     "output_type": "display_data"
    }
   ],
   "source": [
    "plt.plot(df_ads['点赞数'],df_ads['浏览量'],'r.', label='自定义标题') # 用matplotlib.pyplot的plot方法显示散点图。r. 表示使用红色的点\n",
    "plt.xlabel('点赞数') # x轴Label\n",
    "plt.ylabel('浏览量') # y轴Label\n",
    "plt.legend() # 显示图例\n",
    "plt.show() # 显示绘图结果！"
   ]
  },
  {
   "cell_type": "markdown",
   "id": "ddcd1ee5-7d25-4c1d-98c5-30f4c64583f1",
   "metadata": {},
   "source": [
    "### 2.2 箱线图 查看数据集里有没有“离群点”"
   ]
  },
  {
   "cell_type": "markdown",
   "id": "2e2d364b-073c-4961-8d2d-ad6738fec666",
   "metadata": {},
   "source": [
    "箱线图的解释 https://blog.csdn.net/qq_52700357/article/details/129521108"
   ]
  },
  {
   "cell_type": "code",
   "execution_count": 5,
   "id": "e7f59ef8-6ea0-4260-94f0-21b9aee56233",
   "metadata": {},
   "outputs": [
    {
     "data": {
      "image/png": "[encoded data removed]",
      "text/plain": [
       "<Figure size 640x480 with 1 Axes>"
      ]
     },
     "metadata": {},
     "output_type": "display_data"
    }
   ],
   "source": [
    "# 箱线图 查看数据集里有没有“离群点”。下边缘下面和上边缘的上面的数。\n",
    "data = pd.concat([df_ads['浏览量'], df_ads['热度指数']], axis=1) # 浏览量和热度指数\n",
    "fig = sns.boxplot(x='热度指数', y=\"浏览量\", data=data) # 用seaborn的箱线图画图\n",
    "fig.axis(ymin=0, ymax=800000); #设定y轴坐标"
   ]
  },
  {
   "cell_type": "markdown",
   "id": "dc5c058f-6b72-4ad7-86c5-7370cdfd1425",
   "metadata": {},
   "source": [
    "### 3.数据清洗"
   ]
  },
  {
   "cell_type": "code",
   "execution_count": 14,
   "id": "a18fb5e3-7b6a-4ea8-959c-ba4fed6c6c03",
   "metadata": {},
   "outputs": [
    {
     "data": {
      "text/html": [
       "<div>\n",
       "<style scoped>\n",
       "    .dataframe tbody tr th:only-of-type {\n",
       "        vertical-align: middle;\n",
       "    }\n",
       "\n",
       "    .dataframe tbody tr th {\n",
       "        vertical-align: top;\n",
       "    }\n",
       "\n",
       "    .dataframe thead th {\n",
       "        text-align: right;\n",
       "    }\n",
       "</style>\n",
       "<table border=\"1\" class=\"dataframe\">\n",
       "  <thead>\n",
       "    <tr style=\"text-align: right;\">\n",
       "      <th></th>\n",
       "      <th>点赞数</th>\n",
       "      <th>转发数</th>\n",
       "      <th>热度指数</th>\n",
       "      <th>文章评级</th>\n",
       "      <th>浏览量</th>\n",
       "    </tr>\n",
       "  </thead>\n",
       "  <tbody>\n",
       "    <tr>\n",
       "      <th>0</th>\n",
       "      <td>2646</td>\n",
       "      <td>1347.0</td>\n",
       "      <td>7</td>\n",
       "      <td>5</td>\n",
       "      <td>260004</td>\n",
       "    </tr>\n",
       "    <tr>\n",
       "      <th>1</th>\n",
       "      <td>816</td>\n",
       "      <td>816.0</td>\n",
       "      <td>4</td>\n",
       "      <td>6</td>\n",
       "      <td>100004</td>\n",
       "    </tr>\n",
       "    <tr>\n",
       "      <th>2</th>\n",
       "      <td>1224</td>\n",
       "      <td>612.0</td>\n",
       "      <td>6</td>\n",
       "      <td>5</td>\n",
       "      <td>164502</td>\n",
       "    </tr>\n",
       "    <tr>\n",
       "      <th>3</th>\n",
       "      <td>1261</td>\n",
       "      <td>1261.0</td>\n",
       "      <td>6</td>\n",
       "      <td>6</td>\n",
       "      <td>163001</td>\n",
       "    </tr>\n",
       "    <tr>\n",
       "      <th>4</th>\n",
       "      <td>1720</td>\n",
       "      <td>1720.0</td>\n",
       "      <td>7</td>\n",
       "      <td>5</td>\n",
       "      <td>260401</td>\n",
       "    </tr>\n",
       "    <tr>\n",
       "      <th>5</th>\n",
       "      <td>1541</td>\n",
       "      <td>1541.0</td>\n",
       "      <td>7</td>\n",
       "      <td>5</td>\n",
       "      <td>220002</td>\n",
       "    </tr>\n",
       "    <tr>\n",
       "      <th>7</th>\n",
       "      <td>866</td>\n",
       "      <td>686.0</td>\n",
       "      <td>5</td>\n",
       "      <td>9</td>\n",
       "      <td>110504</td>\n",
       "    </tr>\n",
       "    <tr>\n",
       "      <th>8</th>\n",
       "      <td>1314</td>\n",
       "      <td>1300.0</td>\n",
       "      <td>8</td>\n",
       "      <td>5</td>\n",
       "      <td>229461</td>\n",
       "    </tr>\n",
       "    <tr>\n",
       "      <th>9</th>\n",
       "      <td>1431</td>\n",
       "      <td>1099.0</td>\n",
       "      <td>6</td>\n",
       "      <td>5</td>\n",
       "      <td>165004</td>\n",
       "    </tr>\n",
       "    <tr>\n",
       "      <th>10</th>\n",
       "      <td>2291</td>\n",
       "      <td>1214.0</td>\n",
       "      <td>6</td>\n",
       "      <td>6</td>\n",
       "      <td>133901</td>\n",
       "    </tr>\n",
       "  </tbody>\n",
       "</table>\n",
       "</div>"
      ],
      "text/plain": [
       "     点赞数     转发数  热度指数  文章评级     浏览量\n",
       "0   2646  1347.0     7     5  260004\n",
       "1    816   816.0     4     6  100004\n",
       "2   1224   612.0     6     5  164502\n",
       "3   1261  1261.0     6     6  163001\n",
       "4   1720  1720.0     7     5  260401\n",
       "5   1541  1541.0     7     5  220002\n",
       "7    866   686.0     5     9  110504\n",
       "8   1314  1300.0     8     5  229461\n",
       "9   1431  1099.0     6     5  165004\n",
       "10  2291  1214.0     6     6  133901"
      ]
     },
     "execution_count": 14,
     "metadata": {},
     "output_type": "execute_result"
    }
   ],
   "source": [
    "# 查找转发数是NAN的\n",
    "df_ads.isna().sum()\n",
    "# 去除 “转发数”的值是“NaN”,把出现了NaN的数据行删掉\n",
    "df_ads = df_ads.dropna()\n",
    "df_ads.head(10)"
   ]
  },
  {
   "cell_type": "markdown",
   "id": "f06b02c5-b087-483c-bc6c-72542f44db91",
   "metadata": {},
   "source": [
    "### 4.特征工程"
   ]
  },
  {
   "cell_type": "markdown",
   "id": "a071a7f1-fb92-49fc-87dc-e36de5327355",
   "metadata": {},
   "source": [
    "这个项目的问题相对简单，对特征工程的要求并不高，这里暂时不做特征工程。"
   ]
  },
  {
   "cell_type": "markdown",
   "id": "6e4adcfe-4f42-4eff-9200-54b9751c7900",
   "metadata": {},
   "source": [
    "### 5.构建特征集和标签集"
   ]
  },
  {
   "cell_type": "markdown",
   "id": "94698558-9bbd-4f1b-9e87-a0936d0bb0f5",
   "metadata": {},
   "source": [
    "#### 监督学习需要输入 【特征集】和【标签集】"
   ]
  },
  {
   "cell_type": "markdown",
   "id": "97bac160-0e0e-4772-88e9-752e597225a3",
   "metadata": {},
   "source": [
    "#### 特征集：每个样本所包含的一系列属性"
   ]
  },
  {
   "cell_type": "markdown",
   "id": "24b29045-824d-42f9-ae23-c18ec1773d16",
   "metadata": {},
   "source": [
    "#### 标签集：要预测的目标，是监督学习中的指导信号"
   ]
  },
  {
   "cell_type": "markdown",
   "id": "df47db55-c47c-4381-8fe1-75e8d5b7fdd3",
   "metadata": {},
   "source": [
    "### 回顾一下我们这节课的目标：\n",
    "建立一个机器学习模型，根据点赞数和转发数等指标，估计一篇文章能实现多大的浏览量。\n",
    "\n",
    "所以，浏览量就是标签(目的)，其他的点赞、转发就是特征"
   ]
  },
  {
   "cell_type": "code",
   "execution_count": 15,
   "id": "e6309ed7-73e4-4d3c-8383-3bcc51b60e04",
   "metadata": {},
   "outputs": [
    {
     "name": "stdout",
     "output_type": "stream",
     "text": [
      "0       260004\n",
      "1       100004\n",
      "2       164502\n",
      "3       163001\n",
      "4       260401\n",
      "         ...  \n",
      "1455    140001\n",
      "1456    163503\n",
      "1457    392501\n",
      "1458    138805\n",
      "1459    193005\n",
      "Name: 浏览量, Length: 1423, dtype: int64\n"
     ]
    }
   ],
   "source": [
    "# 创建标签集变量\n",
    "y = df_ads[\"浏览量\"]\n",
    "print(y)"
   ]
  },
  {
   "cell_type": "code",
   "execution_count": 16,
   "id": "2f6b644e-fdd6-42b9-81ba-cb0759a4fb08",
   "metadata": {},
   "outputs": [
    {
     "name": "stdout",
     "output_type": "stream",
     "text": [
      "       点赞数     转发数  热度指数  文章评级\n",
      "0     2646  1347.0     7     5\n",
      "1      816   816.0     4     6\n",
      "2     1224   612.0     6     5\n",
      "3     1261  1261.0     6     6\n",
      "4     1720  1720.0     7     5\n",
      "...    ...     ...   ...   ...\n",
      "1455  1121  1121.0     4     5\n",
      "1456  1657  1657.0     6     3\n",
      "1457  1652  1600.0     8     5\n",
      "1458  1096  1096.0     5     5\n",
      "1459  1593   839.0     6     5\n",
      "\n",
      "[1423 rows x 4 columns]\n"
     ]
    }
   ],
   "source": [
    "# 创建特征集变量\n",
    "x = df_ads.drop(['浏览量'],axis=1)# 特征集，Drop掉标签相关字段\n",
    "print(x)"
   ]
  },
  {
   "cell_type": "markdown",
   "id": "918a978f-6858-4b6f-96a3-c543849d25d8",
   "metadata": {},
   "source": [
    "### 6.拆分训练集、验证集和测试集"
   ]
  },
  {
   "cell_type": "markdown",
   "id": "764072cf-77af-41c8-af65-2eee0a5e0731",
   "metadata": {},
   "source": [
    "我们会用机器学习工具包 scikit-learn 里的数据集拆分工具 train_test_split 来完成"
   ]
  },
  {
   "cell_type": "code",
   "execution_count": 31,
   "id": "5ad8baff-4c79-4347-a2ce-143845cd5769",
   "metadata": {},
   "outputs": [],
   "source": [
    "#将数据集进行80%（训练集）和20%（验证集）的分割\n",
    "from sklearn.model_selection import train_test_split #导入train_test_split工具\n",
    "X_train,X_test,y_train,y_test = train_test_split(x,y,test_size=0.2,random_state=0)"
   ]
  },
  {
   "cell_type": "markdown",
   "id": "05f15747-4fba-48a5-b88a-26fead25e1ca",
   "metadata": {},
   "source": [
    "特征训练集（X_train）\n",
    "\n",
    "特征测试集（X_test）\n",
    "\n",
    "标签训练集（y_train）\n",
    "\n",
    "标签测试集（y_test）"
   ]
  },
  {
   "cell_type": "code",
   "execution_count": 32,
   "id": "be4d9915-6f7d-44ee-aee9-3b961f4e329a",
   "metadata": {},
   "outputs": [
    {
     "data": {
      "text/html": [
       "<div>\n",
       "<style scoped>\n",
       "    .dataframe tbody tr th:only-of-type {\n",
       "        vertical-align: middle;\n",
       "    }\n",
       "\n",
       "    .dataframe tbody tr th {\n",
       "        vertical-align: top;\n",
       "    }\n",
       "\n",
       "    .dataframe thead th {\n",
       "        text-align: right;\n",
       "    }\n",
       "</style>\n",
       "<table border=\"1\" class=\"dataframe\">\n",
       "  <thead>\n",
       "    <tr style=\"text-align: right;\">\n",
       "      <th></th>\n",
       "      <th>点赞数</th>\n",
       "      <th>转发数</th>\n",
       "      <th>热度指数</th>\n",
       "      <th>文章评级</th>\n",
       "    </tr>\n",
       "  </thead>\n",
       "  <tbody>\n",
       "    <tr>\n",
       "      <th>673</th>\n",
       "      <td>1620</td>\n",
       "      <td>1620.0</td>\n",
       "      <td>9</td>\n",
       "      <td>5</td>\n",
       "    </tr>\n",
       "    <tr>\n",
       "      <th>308</th>\n",
       "      <td>1796</td>\n",
       "      <td>780.0</td>\n",
       "      <td>6</td>\n",
       "      <td>5</td>\n",
       "    </tr>\n",
       "    <tr>\n",
       "      <th>554</th>\n",
       "      <td>2358</td>\n",
       "      <td>907.0</td>\n",
       "      <td>6</td>\n",
       "      <td>8</td>\n",
       "    </tr>\n",
       "    <tr>\n",
       "      <th>1011</th>\n",
       "      <td>1718</td>\n",
       "      <td>832.0</td>\n",
       "      <td>7</td>\n",
       "      <td>5</td>\n",
       "    </tr>\n",
       "    <tr>\n",
       "      <th>833</th>\n",
       "      <td>1266</td>\n",
       "      <td>1266.0</td>\n",
       "      <td>7</td>\n",
       "      <td>5</td>\n",
       "    </tr>\n",
       "    <tr>\n",
       "      <th>...</th>\n",
       "      <td>...</td>\n",
       "      <td>...</td>\n",
       "      <td>...</td>\n",
       "      <td>...</td>\n",
       "    </tr>\n",
       "    <tr>\n",
       "      <th>786</th>\n",
       "      <td>1710</td>\n",
       "      <td>832.0</td>\n",
       "      <td>6</td>\n",
       "      <td>5</td>\n",
       "    </tr>\n",
       "    <tr>\n",
       "      <th>859</th>\n",
       "      <td>1140</td>\n",
       "      <td>1140.0</td>\n",
       "      <td>5</td>\n",
       "      <td>5</td>\n",
       "    </tr>\n",
       "    <tr>\n",
       "      <th>1248</th>\n",
       "      <td>1358</td>\n",
       "      <td>1358.0</td>\n",
       "      <td>7</td>\n",
       "      <td>5</td>\n",
       "    </tr>\n",
       "    <tr>\n",
       "      <th>574</th>\n",
       "      <td>2060</td>\n",
       "      <td>1151.0</td>\n",
       "      <td>6</td>\n",
       "      <td>5</td>\n",
       "    </tr>\n",
       "    <tr>\n",
       "      <th>705</th>\n",
       "      <td>1224</td>\n",
       "      <td>612.0</td>\n",
       "      <td>6</td>\n",
       "      <td>5</td>\n",
       "    </tr>\n",
       "  </tbody>\n",
       "</table>\n",
       "<p>1138 rows × 4 columns</p>\n",
       "</div>"
      ],
      "text/plain": [
       "       点赞数     转发数  热度指数  文章评级\n",
       "673   1620  1620.0     9     5\n",
       "308   1796   780.0     6     5\n",
       "554   2358   907.0     6     8\n",
       "1011  1718   832.0     7     5\n",
       "833   1266  1266.0     7     5\n",
       "...    ...     ...   ...   ...\n",
       "786   1710   832.0     6     5\n",
       "859   1140  1140.0     5     5\n",
       "1248  1358  1358.0     7     5\n",
       "574   2060  1151.0     6     5\n",
       "705   1224   612.0     6     5\n",
       "\n",
       "[1138 rows x 4 columns]"
      ]
     },
     "execution_count": 32,
     "metadata": {},
     "output_type": "execute_result"
    }
   ],
   "source": [
    "x_train"
   ]
  },
  {
   "cell_type": "code",
   "execution_count": 33,
   "id": "69f52992-5b24-45e6-a561-fbfa21affcab",
   "metadata": {},
   "outputs": [
    {
     "data": {
      "text/plain": [
       "673     315503\n",
       "308     140004\n",
       "554     240003\n",
       "1011    185004\n",
       "833     159896\n",
       "         ...  \n",
       "786     187003\n",
       "859      84501\n",
       "1248    224003\n",
       "574     211001\n",
       "705     173734\n",
       "Name: 浏览量, Length: 1138, dtype: int64"
      ]
     },
     "execution_count": 33,
     "metadata": {},
     "output_type": "execute_result"
    }
   ],
   "source": [
    "y_train"
   ]
  },
  {
   "cell_type": "markdown",
   "id": "33b3e1ed-a113-484f-b7a1-1fa0f5f27fec",
   "metadata": {},
   "source": [
    "### 7.调用 LinearRegression 建立模型"
   ]
  },
  {
   "cell_type": "code",
   "execution_count": 34,
   "id": "2a75bcd6-c7ba-43f9-99dc-a6e82671256a",
   "metadata": {},
   "outputs": [],
   "source": [
    "from sklearn.linear_model import LinearRegression # 导入线性回归算法模型\n",
    "linereg_model = LinearRegression() # 使用线性回归算法创建模型"
   ]
  },
  {
   "cell_type": "code",
   "execution_count": 35,
   "id": "9a63017d-cffb-41df-bef7-066314f56160",
   "metadata": {},
   "outputs": [
    {
     "data": {
      "text/html": [
       "<style>#sk-container-id-5 {color: black;background-color: white;}#sk-container-id-5 pre{padding: 0;}#sk-container-id-5 div.sk-toggleable {background-color: white;}#sk-container-id-5 label.sk-toggleable__label {cursor: pointer;display: block;width: 100%;margin-bottom: 0;padding: 0.3em;box-sizing: border-box;text-align: center;}#sk-container-id-5 label.sk-toggleable__label-arrow:before {content: \"▸\";float: left;margin-right: 0.25em;color: #696969;}#sk-container-id-5 label.sk-toggleable__label-arrow:hover:before {color: black;}#sk-container-id-5 div.sk-estimator:hover label.sk-toggleable__label-arrow:before {color: black;}#sk-container-id-5 div.sk-toggleable__content {max-height: 0;max-width: 0;overflow: hidden;text-align: left;background-color: #f0f8ff;}#sk-container-id-5 div.sk-toggleable__content pre {margin: 0.2em;color: black;border-radius: 0.25em;background-color: #f0f8ff;}#sk-container-id-5 input.sk-toggleable__control:checked~div.sk-toggleable__content {max-height: 200px;max-width: 100%;overflow: auto;}#sk-container-id-5 input.sk-toggleable__control:checked~label.sk-toggleable__label-arrow:before {content: \"▾\";}#sk-container-id-5 div.sk-estimator input.sk-toggleable__control:checked~label.sk-toggleable__label {background-color: #d4ebff;}#sk-container-id-5 div.sk-label input.sk-toggleable__control:checked~label.sk-toggleable__label {background-color: #d4ebff;}#sk-container-id-5 input.sk-hidden--visually {border: 0;clip: rect(1px 1px 1px 1px);clip: rect(1px, 1px, 1px, 1px);height: 1px;margin: -1px;overflow: hidden;padding: 0;position: absolute;width: 1px;}#sk-container-id-5 div.sk-estimator {font-family: monospace;background-color: #f0f8ff;border: 1px dotted black;border-radius: 0.25em;box-sizing: border-box;margin-bottom: 0.5em;}#sk-container-id-5 div.sk-estimator:hover {background-color: #d4ebff;}#sk-container-id-5 div.sk-parallel-item::after {content: \"\";width: 100%;border-bottom: 1px solid gray;flex-grow: 1;}#sk-container-id-5 div.sk-label:hover label.sk-toggleable__label {background-color: #d4ebff;}#sk-container-id-5 div.sk-serial::before {content: \"\";position: absolute;border-left: 1px solid gray;box-sizing: border-box;top: 0;bottom: 0;left: 50%;z-index: 0;}#sk-container-id-5 div.sk-serial {display: flex;flex-direction: column;align-items: center;background-color: white;padding-right: 0.2em;padding-left: 0.2em;position: relative;}#sk-container-id-5 div.sk-item {position: relative;z-index: 1;}#sk-container-id-5 div.sk-parallel {display: flex;align-items: stretch;justify-content: center;background-color: white;position: relative;}#sk-container-id-5 div.sk-item::before, #sk-container-id-5 div.sk-parallel-item::before {content: \"\";position: absolute;border-left: 1px solid gray;box-sizing: border-box;top: 0;bottom: 0;left: 50%;z-index: -1;}#sk-container-id-5 div.sk-parallel-item {display: flex;flex-direction: column;z-index: 1;position: relative;background-color: white;}#sk-container-id-5 div.sk-parallel-item:first-child::after {align-self: flex-end;width: 50%;}#sk-container-id-5 div.sk-parallel-item:last-child::after {align-self: flex-start;width: 50%;}#sk-container-id-5 div.sk-parallel-item:only-child::after {width: 0;}#sk-container-id-5 div.sk-dashed-wrapped {border: 1px dashed gray;margin: 0 0.4em 0.5em 0.4em;box-sizing: border-box;padding-bottom: 0.4em;background-color: white;}#sk-container-id-5 div.sk-label label {font-family: monospace;font-weight: bold;display: inline-block;line-height: 1.2em;}#sk-container-id-5 div.sk-label-container {text-align: center;}#sk-container-id-5 div.sk-container {/* jupyter's `normalize.less` sets `[hidden] { display: none; }` but bootstrap.min.css set `[hidden] { display: none !important; }` so we also need the `!important` here to be able to override the default hidden behavior on the sphinx rendered scikit-learn.org. See: https://github.com/scikit-learn/scikit-learn/issues/21755 */display: inline-block !important;position: relative;}#sk-container-id-5 div.sk-text-repr-fallback {display: none;}</style><div id=\"sk-container-id-5\" class=\"sk-top-container\"><div class=\"sk-text-repr-fallback\"><pre>LinearRegression()</pre><b>In a Jupyter environment, please rerun this cell to show the HTML representation or trust the notebook. <br />On GitHub, the HTML representation is unable to render, please try loading this page with nbviewer.org.</b></div><div class=\"sk-container\" hidden><div class=\"sk-item\"><div class=\"sk-estimator sk-toggleable\"><input class=\"sk-toggleable__control sk-hidden--visually\" id=\"sk-estimator-id-5\" type=\"checkbox\" checked><label for=\"sk-estimator-id-5\" class=\"sk-toggleable__label sk-toggleable__label-arrow\">LinearRegression</label><div class=\"sk-toggleable__content\"><pre>LinearRegression()</pre></div></div></div></div></div>"
      ],
      "text/plain": [
       "LinearRegression()"
      ]
     },
     "execution_count": 35,
     "metadata": {},
     "output_type": "execute_result"
    }
   ],
   "source": [
    "linereg_model.fit(X_train, y_train) # 用训练集数据，训练机器，拟合函数，确定内部参数"
   ]
  },
  {
   "cell_type": "code",
   "execution_count": 36,
   "id": "1dd4cff5-2be3-4381-b9ee-58ba4f97263e",
   "metadata": {},
   "outputs": [
    {
     "data": {
      "text/html": [
       "<style>#sk-container-id-6 {color: black;background-color: white;}#sk-container-id-6 pre{padding: 0;}#sk-container-id-6 div.sk-toggleable {background-color: white;}#sk-container-id-6 label.sk-toggleable__label {cursor: pointer;display: block;width: 100%;margin-bottom: 0;padding: 0.3em;box-sizing: border-box;text-align: center;}#sk-container-id-6 label.sk-toggleable__label-arrow:before {content: \"▸\";float: left;margin-right: 0.25em;color: #696969;}#sk-container-id-6 label.sk-toggleable__label-arrow:hover:before {color: black;}#sk-container-id-6 div.sk-estimator:hover label.sk-toggleable__label-arrow:before {color: black;}#sk-container-id-6 div.sk-toggleable__content {max-height: 0;max-width: 0;overflow: hidden;text-align: left;background-color: #f0f8ff;}#sk-container-id-6 div.sk-toggleable__content pre {margin: 0.2em;color: black;border-radius: 0.25em;background-color: #f0f8ff;}#sk-container-id-6 input.sk-toggleable__control:checked~div.sk-toggleable__content {max-height: 200px;max-width: 100%;overflow: auto;}#sk-container-id-6 input.sk-toggleable__control:checked~label.sk-toggleable__label-arrow:before {content: \"▾\";}#sk-container-id-6 div.sk-estimator input.sk-toggleable__control:checked~label.sk-toggleable__label {background-color: #d4ebff;}#sk-container-id-6 div.sk-label input.sk-toggleable__control:checked~label.sk-toggleable__label {background-color: #d4ebff;}#sk-container-id-6 input.sk-hidden--visually {border: 0;clip: rect(1px 1px 1px 1px);clip: rect(1px, 1px, 1px, 1px);height: 1px;margin: -1px;overflow: hidden;padding: 0;position: absolute;width: 1px;}#sk-container-id-6 div.sk-estimator {font-family: monospace;background-color: #f0f8ff;border: 1px dotted black;border-radius: 0.25em;box-sizing: border-box;margin-bottom: 0.5em;}#sk-container-id-6 div.sk-estimator:hover {background-color: #d4ebff;}#sk-container-id-6 div.sk-parallel-item::after {content: \"\";width: 100%;border-bottom: 1px solid gray;flex-grow: 1;}#sk-container-id-6 div.sk-label:hover label.sk-toggleable__label {background-color: #d4ebff;}#sk-container-id-6 div.sk-serial::before {content: \"\";position: absolute;border-left: 1px solid gray;box-sizing: border-box;top: 0;bottom: 0;left: 50%;z-index: 0;}#sk-container-id-6 div.sk-serial {display: flex;flex-direction: column;align-items: center;background-color: white;padding-right: 0.2em;padding-left: 0.2em;position: relative;}#sk-container-id-6 div.sk-item {position: relative;z-index: 1;}#sk-container-id-6 div.sk-parallel {display: flex;align-items: stretch;justify-content: center;background-color: white;position: relative;}#sk-container-id-6 div.sk-item::before, #sk-container-id-6 div.sk-parallel-item::before {content: \"\";position: absolute;border-left: 1px solid gray;box-sizing: border-box;top: 0;bottom: 0;left: 50%;z-index: -1;}#sk-container-id-6 div.sk-parallel-item {display: flex;flex-direction: column;z-index: 1;position: relative;background-color: white;}#sk-container-id-6 div.sk-parallel-item:first-child::after {align-self: flex-end;width: 50%;}#sk-container-id-6 div.sk-parallel-item:last-child::after {align-self: flex-start;width: 50%;}#sk-container-id-6 div.sk-parallel-item:only-child::after {width: 0;}#sk-container-id-6 div.sk-dashed-wrapped {border: 1px dashed gray;margin: 0 0.4em 0.5em 0.4em;box-sizing: border-box;padding-bottom: 0.4em;background-color: white;}#sk-container-id-6 div.sk-label label {font-family: monospace;font-weight: bold;display: inline-block;line-height: 1.2em;}#sk-container-id-6 div.sk-label-container {text-align: center;}#sk-container-id-6 div.sk-container {/* jupyter's `normalize.less` sets `[hidden] { display: none; }` but bootstrap.min.css set `[hidden] { display: none !important; }` so we also need the `!important` here to be able to override the default hidden behavior on the sphinx rendered scikit-learn.org. See: https://github.com/scikit-learn/scikit-learn/issues/21755 */display: inline-block !important;position: relative;}#sk-container-id-6 div.sk-text-repr-fallback {display: none;}</style><div id=\"sk-container-id-6\" class=\"sk-top-container\"><div class=\"sk-text-repr-fallback\"><pre>LinearRegression()</pre><b>In a Jupyter environment, please rerun this cell to show the HTML representation or trust the notebook. <br />On GitHub, the HTML representation is unable to render, please try loading this page with nbviewer.org.</b></div><div class=\"sk-container\" hidden><div class=\"sk-item\"><div class=\"sk-estimator sk-toggleable\"><input class=\"sk-toggleable__control sk-hidden--visually\" id=\"sk-estimator-id-6\" type=\"checkbox\" checked><label for=\"sk-estimator-id-6\" class=\"sk-toggleable__label sk-toggleable__label-arrow\">LinearRegression</label><div class=\"sk-toggleable__content\"><pre>LinearRegression()</pre></div></div></div></div></div>"
      ],
      "text/plain": [
       "LinearRegression()"
      ]
     },
     "execution_count": 36,
     "metadata": {},
     "output_type": "execute_result"
    }
   ],
   "source": [
    "LinearRegression()"
   ]
  },
  {
   "cell_type": "code",
   "execution_count": 37,
   "id": "a3bf74c2-db0c-49f3-9b6a-b9cc5123180b",
   "metadata": {},
   "outputs": [],
   "source": [
    "y_pred = linereg_model.predict(X_test) #预测测试集的Y值"
   ]
  },
  {
   "cell_type": "code",
   "execution_count": 38,
   "id": "3b57c16f-adfc-4150-ae6b-5651b0f5c852",
   "metadata": {},
   "outputs": [
    {
     "data": {
      "text/html": [
       "<div>\n",
       "<style scoped>\n",
       "    .dataframe tbody tr th:only-of-type {\n",
       "        vertical-align: middle;\n",
       "    }\n",
       "\n",
       "    .dataframe tbody tr th {\n",
       "        vertical-align: top;\n",
       "    }\n",
       "\n",
       "    .dataframe thead th {\n",
       "        text-align: right;\n",
       "    }\n",
       "</style>\n",
       "<table border=\"1\" class=\"dataframe\">\n",
       "  <thead>\n",
       "    <tr style=\"text-align: right;\">\n",
       "      <th></th>\n",
       "      <th>点赞数</th>\n",
       "      <th>转发数</th>\n",
       "      <th>热度指数</th>\n",
       "      <th>文章评级</th>\n",
       "      <th>浏览量真值</th>\n",
       "      <th>浏览量预测值</th>\n",
       "    </tr>\n",
       "  </thead>\n",
       "  <tbody>\n",
       "    <tr>\n",
       "      <th>1074</th>\n",
       "      <td>1709</td>\n",
       "      <td>970.0</td>\n",
       "      <td>6</td>\n",
       "      <td>5</td>\n",
       "      <td>130003</td>\n",
       "      <td>181499.180492</td>\n",
       "    </tr>\n",
       "    <tr>\n",
       "      <th>404</th>\n",
       "      <td>1440</td>\n",
       "      <td>1440.0</td>\n",
       "      <td>4</td>\n",
       "      <td>4</td>\n",
       "      <td>118005</td>\n",
       "      <td>122478.101604</td>\n",
       "    </tr>\n",
       "    <tr>\n",
       "      <th>1375</th>\n",
       "      <td>1434</td>\n",
       "      <td>1454.0</td>\n",
       "      <td>7</td>\n",
       "      <td>5</td>\n",
       "      <td>189003</td>\n",
       "      <td>214815.847941</td>\n",
       "    </tr>\n",
       "    <tr>\n",
       "      <th>1317</th>\n",
       "      <td>832</td>\n",
       "      <td>832.0</td>\n",
       "      <td>6</td>\n",
       "      <td>6</td>\n",
       "      <td>105504</td>\n",
       "      <td>137486.350468</td>\n",
       "    </tr>\n",
       "    <tr>\n",
       "      <th>145</th>\n",
       "      <td>923</td>\n",
       "      <td>876.0</td>\n",
       "      <td>5</td>\n",
       "      <td>5</td>\n",
       "      <td>119501</td>\n",
       "      <td>110710.382414</td>\n",
       "    </tr>\n",
       "    <tr>\n",
       "      <th>...</th>\n",
       "      <td>...</td>\n",
       "      <td>...</td>\n",
       "      <td>...</td>\n",
       "      <td>...</td>\n",
       "      <td>...</td>\n",
       "      <td>...</td>\n",
       "    </tr>\n",
       "    <tr>\n",
       "      <th>420</th>\n",
       "      <td>1790</td>\n",
       "      <td>873.0</td>\n",
       "      <td>7</td>\n",
       "      <td>5</td>\n",
       "      <td>193004</td>\n",
       "      <td>211755.243385</td>\n",
       "    </tr>\n",
       "    <tr>\n",
       "      <th>1338</th>\n",
       "      <td>2622</td>\n",
       "      <td>1463.0</td>\n",
       "      <td>8</td>\n",
       "      <td>5</td>\n",
       "      <td>325002</td>\n",
       "      <td>301982.291922</td>\n",
       "    </tr>\n",
       "    <tr>\n",
       "      <th>542</th>\n",
       "      <td>1342</td>\n",
       "      <td>1372.0</td>\n",
       "      <td>6</td>\n",
       "      <td>5</td>\n",
       "      <td>161502</td>\n",
       "      <td>177814.080182</td>\n",
       "    </tr>\n",
       "    <tr>\n",
       "      <th>311</th>\n",
       "      <td>1663</td>\n",
       "      <td>1364.0</td>\n",
       "      <td>4</td>\n",
       "      <td>6</td>\n",
       "      <td>256002</td>\n",
       "      <td>136460.539585</td>\n",
       "    </tr>\n",
       "    <tr>\n",
       "      <th>887</th>\n",
       "      <td>1442</td>\n",
       "      <td>1442.0</td>\n",
       "      <td>6</td>\n",
       "      <td>6</td>\n",
       "      <td>185001</td>\n",
       "      <td>188003.240929</td>\n",
       "    </tr>\n",
       "  </tbody>\n",
       "</table>\n",
       "<p>285 rows × 6 columns</p>\n",
       "</div>"
      ],
      "text/plain": [
       "       点赞数     转发数  热度指数  文章评级   浏览量真值         浏览量预测值\n",
       "1074  1709   970.0     6     5  130003  181499.180492\n",
       "404   1440  1440.0     4     4  118005  122478.101604\n",
       "1375  1434  1454.0     7     5  189003  214815.847941\n",
       "1317   832   832.0     6     6  105504  137486.350468\n",
       "145    923   876.0     5     5  119501  110710.382414\n",
       "...    ...     ...   ...   ...     ...            ...\n",
       "420   1790   873.0     7     5  193004  211755.243385\n",
       "1338  2622  1463.0     8     5  325002  301982.291922\n",
       "542   1342  1372.0     6     5  161502  177814.080182\n",
       "311   1663  1364.0     4     6  256002  136460.539585\n",
       "887   1442  1442.0     6     6  185001  188003.240929\n",
       "\n",
       "[285 rows x 6 columns]"
      ]
     },
     "execution_count": 38,
     "metadata": {},
     "output_type": "execute_result"
    }
   ],
   "source": [
    "df_ads_pred = X_test.copy() # 测试集特征数据\n",
    "df_ads_pred['浏览量真值'] = y_test # 测试集标签真值\n",
    "df_ads_pred['浏览量预测值'] = y_pred # 测试集标签预测值\n",
    "df_ads_pred #显示数据"
   ]
  },
  {
   "cell_type": "code",
   "execution_count": 45,
   "id": "1040bf38-bb20-4554-9682-2e5ee796ad77",
   "metadata": {},
   "outputs": [
    {
     "name": "stdout",
     "output_type": "stream",
     "text": [
      "当前模型的4个特征的权重分别是:  [   48.08395224    34.73062229 29730.13312489  2949.62196343]\n",
      "当前模型的截距（偏置）是:  -127493.90606857173\n"
     ]
    }
   ],
   "source": [
    "print('当前模型的4个特征的权重分别是: ', linereg_model.coef_)\n",
    "print('当前模型的截距（偏置）是: ', linereg_model.intercept_)"
   ]
  },
  {
   "cell_type": "markdown",
   "id": "d5d51097-0c67-4c2a-9c19-22cd19888567",
   "metadata": {},
   "source": [
    "初步看出：点赞权重 48，转发权重34，热度指数权重29730，文章评级权重2949"
   ]
  },
  {
   "cell_type": "code",
   "execution_count": 40,
   "id": "9644d1d9-d829-4de3-9a34-4df289590502",
   "metadata": {},
   "outputs": [
    {
     "name": "stdout",
     "output_type": "stream",
     "text": [
      "线性回归预测评分： 0.740552064611524\n"
     ]
    }
   ],
   "source": [
    "print(\"线性回归预测评分：\", linereg_model.score(X_test, y_test)) # 评估模型"
   ]
  },
  {
   "cell_type": "code",
   "execution_count": null,
   "id": "24bf4178-1442-4070-9ff8-6def37779a5a",
   "metadata": {},
   "outputs": [],
   "source": []
  }
 ],
 "metadata": {
  "kernelspec": {
   "display_name": "Python 3 (ipykernel)",
   "language": "python",
   "name": "python3"
  },
  "language_info": {
   "codemirror_mode": {
    "name": "ipython",
    "version": 3
   },
   "file_extension": ".py",
   "mimetype": "text/x-python",
   "name": "python",
   "nbconvert_exporter": "python",
   "pygments_lexer": "ipython3",
   "version": "3.11.7"
  }
 },
 "nbformat": 4,
 "nbformat_minor": 5
}
